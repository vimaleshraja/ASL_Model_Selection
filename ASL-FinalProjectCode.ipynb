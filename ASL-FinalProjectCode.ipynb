{
 "cells": [
  {
   "cell_type": "markdown",
   "id": "0f40bd46",
   "metadata": {},
   "source": [
    "# Table of contents <a id=25></a>\n",
    "1. [Importing packages](#1)\n",
    "2. [Importing the dataset from training directory](#2)\n",
    "    - 2.1 [Data copies](#3)\n",
    "    - 2.2 [Data Subset](#4)\n",
    "    - 2.3 [Helper Function](#5)\n",
    "3. [Data processing](#6)\n",
    "    - 3.1 [Data Resizing](#7)\n",
    "    - 3.2 [Mean Blur](#8)\n",
    "    - 3.3 [Data Resizing and Mean Blur](#9)\n",
    "    - 3.4 [Train/Test Split](#10)\n",
    "    - 3.5 [One Hot encoding](#11)\n",
    "4. [Models](#12)\n",
    "    - 4.1 [Hyper-Parameter Selection](#13)\n",
    "    - 4.2 [SVM - Raw Data](#14)\n",
    "    - 4.3 [SVM - Resized Data](#15)\n",
    "    - 4.4 [SVM - Mean Blur](#16)\n",
    "    - 4.5 [SVM - Resized and Mean Blur](#17)\n",
    "5. [PCA](#18)\n",
    "    - 5.1 [SVM - PCA](#19)\n",
    "    - 5.2 [SVM - PCA with Resized Mean Blur](#20)\n",
    "6. [Convolutional Neural Network](#21)\n",
    "    - 6.1 [CNN 2-Layers](#22)\n",
    "    - 6.2 [CNN 5-Layers](#23)\n",
    "7. [Model Comparison](#24)\n"
   ]
  },
  {
   "cell_type": "markdown",
   "id": "3739c96e",
   "metadata": {},
   "source": [
    "# Importing packages <a id=1></a>"
   ]
  },
  {
   "cell_type": "code",
   "execution_count": 59,
   "id": "5d84f2df",
   "metadata": {},
   "outputs": [
    {
     "name": "stdout",
     "output_type": "stream",
     "text": [
      "Packages imported...\n"
     ]
    }
   ],
   "source": [
    "# import data processing and visualisation libraries\n",
    "import numpy as np\n",
    "import pandas as pd\n",
    "import seaborn as sns\n",
    "import matplotlib.pyplot as plt\n",
    "%matplotlib inline\n",
    "\n",
    "# import image processing libraries\n",
    "import cv2\n",
    "import skimage\n",
    "from skimage.transform import resize\n",
    "\n",
    "# import tensorflow and keras\n",
    "import tensorflow as tf\n",
    "from tensorflow import keras\n",
    "import os\n",
    "from sklearn.model_selection import train_test_split\n",
    "from tensorflow.keras.utils import to_categorical\n",
    "from sklearn.pipeline import Pipeline\n",
    "from sklearn.svm import SVC\n",
    "from sklearn.model_selection import GridSearchCV\n",
    "from sklearn.metrics import accuracy_score\n",
    "from keras.models import Sequential\n",
    "from keras.layers import Conv2D, MaxPooling2D, Activation, Dense, Flatten, BatchNormalization\n",
    "from tensorflow.keras.callbacks import EarlyStopping\n",
    "\n",
    "import time\n",
    "\n",
    "print(\"Packages imported...\")"
   ]
  },
  {
   "cell_type": "markdown",
   "id": "c2ee1811",
   "metadata": {},
   "source": [
    "# Importing Dataset <a id=2></a>"
   ]
  },
  {
   "cell_type": "code",
   "execution_count": 2,
   "id": "87746aae",
   "metadata": {},
   "outputs": [
    {
     "name": "stderr",
     "output_type": "stream",
     "text": [
      "C:\\Users\\pprad\\AppData\\Local\\Temp\\ipykernel_23476\\2970631385.py:11: DeprecationWarning: `np.int` is a deprecated alias for the builtin `int`. To silence this warning, use `int` by itself. Doing this will not modify any behavior and is safe. When replacing `np.int`, you may wish to use e.g. `np.int64` or `np.int32` to specify the precision. If you wish to review your current use, check the release note link for additional information.\n",
      "Deprecated in NumPy 1.20; for more details and guidance: https://numpy.org/devdocs/release/1.20.0-notes.html#deprecations\n",
      "  y = np.empty((train_len,), dtype=np.int)\n"
     ]
    },
    {
     "name": "stdout",
     "output_type": "stream",
     "text": [
      "Images successfully imported...\n"
     ]
    }
   ],
   "source": [
    "batch_size = 64\n",
    "imageSize = 64\n",
    "target_dims = (imageSize, imageSize, 3)\n",
    "num_classes = 29\n",
    "\n",
    "train_len = 87000\n",
    "train_dir = 'asl_alphabet_train/'\n",
    "\n",
    "def get_data(folder):\n",
    "    X = np.empty((train_len, imageSize, imageSize, 3), dtype=np.float32)\n",
    "    y = np.empty((train_len,), dtype=np.int)\n",
    "    cnt = 0\n",
    "    \n",
    "    for folderName in os.listdir(folder):\n",
    "        if not folderName.startswith('.'):\n",
    "            if folderName in ['A']:\n",
    "                label = 0\n",
    "            elif folderName in ['B']:\n",
    "                label = 1\n",
    "            elif folderName in ['C']:\n",
    "                label = 2\n",
    "            elif folderName in ['D']:\n",
    "                label = 3\n",
    "            elif folderName in ['E']:\n",
    "                label = 4\n",
    "            elif folderName in ['F']:\n",
    "                label = 5\n",
    "            elif folderName in ['G']:\n",
    "                label = 6\n",
    "            elif folderName in ['H']:\n",
    "                label = 7\n",
    "            elif folderName in ['I']:\n",
    "                label = 8\n",
    "            elif folderName in ['J']:\n",
    "                label = 9\n",
    "            elif folderName in ['K']:\n",
    "                label = 10\n",
    "            elif folderName in ['L']:\n",
    "                label = 11\n",
    "            elif folderName in ['M']:\n",
    "                label = 12\n",
    "            elif folderName in ['N']:\n",
    "                label = 13\n",
    "            elif folderName in ['O']:\n",
    "                label = 14\n",
    "            elif folderName in ['P']:\n",
    "                label = 15\n",
    "            elif folderName in ['Q']:\n",
    "                label = 16\n",
    "            elif folderName in ['R']:\n",
    "                label = 17\n",
    "            elif folderName in ['S']:\n",
    "                label = 18\n",
    "            elif folderName in ['T']:\n",
    "                label = 19\n",
    "            elif folderName in ['U']:\n",
    "                label = 20\n",
    "            elif folderName in ['V']:\n",
    "                label = 21\n",
    "            elif folderName in ['W']:\n",
    "                label = 22\n",
    "            elif folderName in ['X']:\n",
    "                label = 23\n",
    "            elif folderName in ['Y']:\n",
    "                label = 24\n",
    "            elif folderName in ['Z']:\n",
    "                label = 25\n",
    "            elif folderName in ['del']:\n",
    "                label = 26\n",
    "            elif folderName in ['nothing']:\n",
    "                label = 27\n",
    "            elif folderName in ['space']:\n",
    "                label = 28           \n",
    "            else:\n",
    "                label = 29\n",
    "            for image_filename in os.listdir(folder + folderName):\n",
    "                img_file = cv2.imread(folder + folderName + '/' + image_filename)\n",
    "                if img_file is not None:\n",
    "                    img_file = skimage.transform.resize(img_file, (imageSize, imageSize, 3))\n",
    "                    img_arr = np.asarray(img_file).reshape((-1, imageSize, imageSize, 3))\n",
    "                    \n",
    "                    X[cnt] = img_arr\n",
    "                    y[cnt] = label\n",
    "                    cnt += 1\n",
    "    return X,y\n",
    "X_init, y_init = get_data(train_dir)\n",
    "print(\"Images successfully imported...\")"
   ]
  },
  {
   "cell_type": "markdown",
   "id": "ad3a6f12",
   "metadata": {},
   "source": [
    "### Data copies<a id=3></a>"
   ]
  },
  {
   "cell_type": "code",
   "execution_count": 3,
   "id": "0b02857c",
   "metadata": {},
   "outputs": [
    {
     "name": "stdout",
     "output_type": "stream",
     "text": [
      "Copies made...\n"
     ]
    }
   ],
   "source": [
    "X_data = X_init\n",
    "y_data = y_init\n",
    "print(\"Copies made...\")"
   ]
  },
  {
   "cell_type": "markdown",
   "id": "5842b891",
   "metadata": {},
   "source": [
    "### Data Subset <a id=4></a>"
   ]
  },
  {
   "cell_type": "code",
   "execution_count": 4,
   "id": "9f46bdaa",
   "metadata": {},
   "outputs": [],
   "source": [
    "\n",
    "# Assuming X_data is a numpy array of shape (N, D) and y_data is a numpy array of shape (N,)\n",
    "# where N is the number of samples and D is the number of features.\n",
    "\n",
    "num_classes = 29\n",
    "num_samples_per_class = 215\n",
    "\n",
    "X_new = []\n",
    "y_new = []\n",
    "\n",
    "for c in range(num_classes):\n",
    "    indices = np.where(y_data == c)[0]\n",
    "    indices = np.random.choice(indices, size=num_samples_per_class, replace=False)\n",
    "    X_new.append(X_data[indices])\n",
    "    y_new.append(y_data[indices])\n",
    "\n",
    "X_data = np.vstack(X_new)\n",
    "y_data = np.hstack(y_new)"
   ]
  },
  {
   "cell_type": "markdown",
   "id": "7a8edfdd",
   "metadata": {},
   "source": [
    "### Helper Functions <a id=5></a>"
   ]
  },
  {
   "cell_type": "code",
   "execution_count": 5,
   "id": "a940ce63",
   "metadata": {},
   "outputs": [],
   "source": [
    "# Flattening the data\n",
    "\n",
    "import numpy as np\n",
    "\n",
    "def flat_data(data):\n",
    "    #########   Train data to flatten ########\n",
    "    n_samples, height, width, n_channels = data.shape\n",
    "\n",
    "    # Flatten the image array to have shape (n_samples, n_features)\n",
    "    n_features = height * width * n_channels\n",
    "    data_flat = np.reshape(data, (n_samples, n_features))\n",
    "    \n",
    "    return data_flat"
   ]
  },
  {
   "cell_type": "markdown",
   "id": "cbdc2cd3",
   "metadata": {},
   "source": [
    "# Data Preprocessing <a id=6></a>"
   ]
  },
  {
   "cell_type": "markdown",
   "id": "b4f63fbf",
   "metadata": {},
   "source": [
    "### Data Resizing <a id=7></a>"
   ]
  },
  {
   "cell_type": "code",
   "execution_count": 6,
   "id": "26d3f138",
   "metadata": {},
   "outputs": [],
   "source": [
    "# Resized Image Data\n",
    "\n",
    "new_size = (28, 28)\n",
    "\n",
    "# Create an empty array to store the resized images\n",
    "resized_images = np.zeros((X_data.shape[0], new_size[0], new_size[1], 3))\n",
    "\n",
    "# Loop over each image in the dataset\n",
    "for i in range(X_data.shape[0]):\n",
    "    # Resize the image\n",
    "    resized_images[i] = resize(X_data[i], new_size, mode='reflect', anti_aliasing=True)"
   ]
  },
  {
   "cell_type": "markdown",
   "id": "2964ddfd",
   "metadata": {},
   "source": [
    "### Mean Blur <a id=8></a>"
   ]
  },
  {
   "cell_type": "code",
   "execution_count": 7,
   "id": "55ed426a",
   "metadata": {},
   "outputs": [
    {
     "name": "stdout",
     "output_type": "stream",
     "text": [
      "The shape of X_train is :  (6235, 64, 64, 3)\n"
     ]
    }
   ],
   "source": [
    "#Mean blur\n",
    "mean_blur_img = np.zeros(X_data.shape)\n",
    "ksize = (3, 3)\n",
    "for i in range(len(X_data)):\n",
    "    img = X_data[i]\n",
    "    img = cv2.blur(img, ksize, 0)\n",
    "    mean_blur_img[i] = img\n",
    "\n",
    "print(\"The shape of X_train is : \", mean_blur_img.shape)\n"
   ]
  },
  {
   "cell_type": "markdown",
   "id": "6bf17bb8",
   "metadata": {},
   "source": [
    "### Mean blur and Resizing <a id=9></a>"
   ]
  },
  {
   "cell_type": "code",
   "execution_count": 8,
   "id": "ab5ecf03",
   "metadata": {},
   "outputs": [
    {
     "name": "stdout",
     "output_type": "stream",
     "text": [
      "The shape of X_train is :  (6235, 28, 28, 3)\n"
     ]
    }
   ],
   "source": [
    "# Mean Blur with Resized Image\n",
    "\n",
    "resized_mean_blur_img = np.zeros(resized_images.shape)\n",
    "ksize = (3, 3)\n",
    "for i in range(len(resized_images)):\n",
    "    img = resized_images[i]\n",
    "    img = cv2.blur(img, ksize, 0)\n",
    "    resized_mean_blur_img[i] = img\n",
    "\n",
    "print(\"The shape of X_train is : \", resized_mean_blur_img.shape)"
   ]
  },
  {
   "cell_type": "markdown",
   "id": "8a22c605",
   "metadata": {},
   "source": [
    "### Test-Train Split <a id=10></a>"
   ]
  },
  {
   "cell_type": "code",
   "execution_count": 9,
   "id": "40bb0d8e",
   "metadata": {},
   "outputs": [],
   "source": [
    "X_train_resized, X_test_resized, y_train, y_test = train_test_split(resized_images, y_data, test_size=0.3,random_state=42,stratify=y_data)"
   ]
  },
  {
   "cell_type": "code",
   "execution_count": 10,
   "id": "5254bda0",
   "metadata": {},
   "outputs": [],
   "source": [
    "X_train_mean, X_test_mean, y_train, y_test = train_test_split(X_data, y_data, test_size=0.3,random_state=42,stratify=y_data)"
   ]
  },
  {
   "cell_type": "code",
   "execution_count": 11,
   "id": "fb9b7fde",
   "metadata": {},
   "outputs": [],
   "source": [
    "X_train_resized_mean, X_test_resized_mean, y_train, y_test = train_test_split(resized_mean_blur_img, y_data, test_size=0.3,random_state=42,stratify=y_data)"
   ]
  },
  {
   "cell_type": "code",
   "execution_count": 12,
   "id": "348ad3bf",
   "metadata": {},
   "outputs": [],
   "source": [
    "X_train_original, X_test_original, y_train, y_test = train_test_split(X_data, y_data, test_size=0.3,random_state=42,stratify=y_data)"
   ]
  },
  {
   "cell_type": "markdown",
   "id": "cfdf038b",
   "metadata": {},
   "source": [
    "### One-hot Encoding of Label <a id=11></a>"
   ]
  },
  {
   "cell_type": "code",
   "execution_count": 13,
   "id": "5bffa186",
   "metadata": {},
   "outputs": [],
   "source": [
    "from tensorflow.keras.utils import to_categorical\n",
    "y_cat_train = to_categorical(y_train,29)\n",
    "y_cat_test = to_categorical(y_test,29)"
   ]
  },
  {
   "cell_type": "markdown",
   "id": "82af97e7",
   "metadata": {},
   "source": [
    "# Model Building <a id=12></a>"
   ]
  },
  {
   "cell_type": "markdown",
   "id": "f1ee53d0",
   "metadata": {},
   "source": [
    "### SVM Hyperparameter Search <a id=13></a>"
   ]
  },
  {
   "cell_type": "code",
   "execution_count": 14,
   "id": "c1fe7f46",
   "metadata": {},
   "outputs": [
    {
     "name": "stdout",
     "output_type": "stream",
     "text": [
      "Best cross-validation score: 0.78\n",
      "Best parameters:\n",
      "{'svc': SVC(C=100), 'svc__C': 100, 'svc__kernel': 'rbf'}\n"
     ]
    }
   ],
   "source": [
    "pipe = Pipeline([('svc', SVC())])\n",
    "\n",
    "param_grid = [{'svc': [SVC()],\n",
    "              'svc__kernel': ['linear', 'poly', 'rbf'], \n",
    "              'svc__C': [1,10,100]}]\n",
    "\n",
    "grid = GridSearchCV(pipe, param_grid, cv=5)\n",
    "grid.fit(flat_data(X_train_resized), y_train)\n",
    "\n",
    "print(\"Best cross-validation score: {:.2f}\".format(grid.best_score_))\n",
    "print(\"Best parameters:\\n{}\".format(grid.best_params_))"
   ]
  },
  {
   "cell_type": "code",
   "execution_count": 15,
   "id": "517b6d4e",
   "metadata": {},
   "outputs": [
    {
     "data": {
      "text/plain": [
       "0.797434526990914"
      ]
     },
     "execution_count": 15,
     "metadata": {},
     "output_type": "execute_result"
    }
   ],
   "source": [
    "y_pred_test = grid.predict(flat_data(X_test_resized))\n",
    "svm_resized_acc = accuracy_score(y_test, y_pred_test)\n",
    "svm_resized_acc"
   ]
  },
  {
   "cell_type": "markdown",
   "id": "5db3fa05",
   "metadata": {},
   "source": [
    "### SVM with Raw Data <a id=14></a>"
   ]
  },
  {
   "cell_type": "code",
   "execution_count": 16,
   "id": "7209f26a",
   "metadata": {},
   "outputs": [
    {
     "name": "stdout",
     "output_type": "stream",
     "text": [
      "SVM with mean blur: \n",
      "Execution Time: 726.2985897064209 \n",
      "Accuracy Score: 0.7899518973810796\n"
     ]
    }
   ],
   "source": [
    "start = time.time()\n",
    "\n",
    "svc = SVC(kernel='rbf', C=100)\n",
    "svc.fit(flat_data(X_train_original),y_train)\n",
    "y_pred = svc.predict(flat_data(X_test_original))\n",
    "\n",
    "end = time.time()\n",
    "\n",
    "svm_orig_acc = accuracy_score(y_test, y_pred)\n",
    "svm_orig_time = end-start\n",
    "\n",
    "print(f'SVM with mean blur: \\nExecution Time: {end-start} \\nAccuracy Score: {svm_orig_acc}')"
   ]
  },
  {
   "cell_type": "markdown",
   "id": "9509882a",
   "metadata": {},
   "source": [
    "### SVM with Resized Data <a id=15></a>"
   ]
  },
  {
   "cell_type": "code",
   "execution_count": 17,
   "id": "1e389b0e",
   "metadata": {},
   "outputs": [
    {
     "name": "stdout",
     "output_type": "stream",
     "text": [
      "SVM with mean blur: \n",
      "Execution Time: 24.399134874343872 \n",
      "Accuracy Score: 0.797434526990914\n"
     ]
    }
   ],
   "source": [
    "start = time.time()\n",
    "\n",
    "svc = SVC(kernel='rbf', C=100)\n",
    "svc.fit(flat_data(X_train_resized),y_train)\n",
    "y_pred = svc.predict(flat_data(X_test_resized))\n",
    "\n",
    "end = time.time()\n",
    "\n",
    "svm_resized_acc = accuracy_score(y_test, y_pred)\n",
    "svm_resized_time = end-start\n",
    "\n",
    "print(f'SVM with mean blur: \\nExecution Time: {end-start} \\nAccuracy Score: {svm_resized_acc}')"
   ]
  },
  {
   "cell_type": "markdown",
   "id": "de231e73",
   "metadata": {},
   "source": [
    "### SVM with Mean Blur <a id=16></a>"
   ]
  },
  {
   "cell_type": "code",
   "execution_count": 18,
   "id": "dd513870",
   "metadata": {},
   "outputs": [
    {
     "name": "stdout",
     "output_type": "stream",
     "text": [
      "SVM with mean blur: \n",
      "Execution Time: 547.2798175811768 \n",
      "Accuracy Score: 0.7899518973810796\n"
     ]
    }
   ],
   "source": [
    "start = time.time()\n",
    "\n",
    "svc = SVC(kernel='rbf', C=100)\n",
    "svc.fit(flat_data(X_train_mean),y_train)\n",
    "y_pred = svc.predict(flat_data(X_test_mean))\n",
    "\n",
    "end = time.time()\n",
    "\n",
    "svm_mean_acc = accuracy_score(y_test, y_pred)\n",
    "svm_mean_time = end-start\n",
    "\n",
    "print(f'SVM with mean blur: \\nExecution Time: {end-start} \\nAccuracy Score: {svm_mean_acc}')"
   ]
  },
  {
   "cell_type": "markdown",
   "id": "a7a18f54",
   "metadata": {},
   "source": [
    "### SVM with Resized image and Mean blur <a id=17></a>"
   ]
  },
  {
   "cell_type": "code",
   "execution_count": 19,
   "id": "5dd7392f",
   "metadata": {},
   "outputs": [
    {
     "name": "stdout",
     "output_type": "stream",
     "text": [
      "SVM with Resized Image and Mean Blur:       \n",
      "Execution Time: 15.779603719711304       \n",
      "Accuracy Score: 0.8321753073222875\n"
     ]
    }
   ],
   "source": [
    "start = time.time()\n",
    "\n",
    "svc = SVC(kernel='rbf', C=100)\n",
    "svc.fit(flat_data(X_train_resized_mean),y_train)\n",
    "y_pred = svc.predict(flat_data(X_test_resized_mean))\n",
    "\n",
    "end = time.time()\n",
    "\n",
    "svm_resized_mean_acc = accuracy_score(y_test, y_pred)\n",
    "svm_resized_mean_acc\n",
    "\n",
    "svm_resized_mean_time = end-start\n",
    "\n",
    "print(f'SVM with Resized Image and Mean Blur: \\\n",
    "      \\nExecution Time: {svm_resized_mean_time} \\\n",
    "      \\nAccuracy Score: {svm_resized_mean_acc}')"
   ]
  },
  {
   "cell_type": "markdown",
   "id": "42655df1",
   "metadata": {},
   "source": [
    "# PCA - Feature Selection <a id=18></a>"
   ]
  },
  {
   "cell_type": "code",
   "execution_count": 20,
   "id": "9307d26c",
   "metadata": {},
   "outputs": [],
   "source": [
    "from sklearn.preprocessing import MinMaxScaler\n",
    "scaler = MinMaxScaler()\n",
    "X_train_rescaled = scaler.fit_transform(flat_data(X_train_original))\n",
    "X_test_rescaled = scaler.transform(flat_data(X_test_original))\n"
   ]
  },
  {
   "cell_type": "code",
   "execution_count": 21,
   "id": "c1c7b7a2",
   "metadata": {},
   "outputs": [
    {
     "name": "stdout",
     "output_type": "stream",
     "text": [
      "The optimal number of components for variance threshold 0.95 is 90\n"
     ]
    },
    {
     "data": {
      "image/png": "[encoded data removed]",
      "text/plain": [
       "<Figure size 640x480 with 1 Axes>"
      ]
     },
     "metadata": {},
     "output_type": "display_data"
    }
   ],
   "source": [
    "from sklearn.decomposition import PCA\n",
    "\n",
    "pca1 = PCA(n_components = 0.96)\n",
    "pca1.fit_transform(X_train_rescaled)\n",
    "\n",
    "%matplotlib inline\n",
    "import matplotlib.pyplot as plt\n",
    "plt.rcParams[\"figure.figsize\"] = (12,6)\n",
    "\n",
    "fig, ax = plt.subplots()\n",
    "xi = np.arange(1, (len(np.cumsum(pca1.explained_variance_ratio_))+1))\n",
    "y = np.cumsum(pca1.explained_variance_ratio_)\n",
    "\n",
    "plt.ylim(0.0,1.1)\n",
    "plt.plot(xi, y, marker='.', linestyle='--', color='b')\n",
    "\n",
    "plt.xlabel('Number of Components')\n",
    "plt.xticks(np.arange(0, 140, step=10)) #change from 0-based array index to 1-based human-readable label\n",
    "plt.ylabel('Cumulative variance (%)')\n",
    "plt.title('The number of components needed to explain variance')\n",
    "\n",
    "plt.axhline(y=0.95, color='r', linestyle='-')\n",
    "plt.text(0.5, 0.85, '95% cut-off threshold', color = 'red', fontsize=16)\n",
    "\n",
    "ax.grid(axis='x')\n",
    "plt.show()\n",
    " "
   ]
  },
  {
   "cell_type": "markdown",
   "id": "8f8158a3",
   "metadata": {},
   "source": [
    "**Value of PCA component calculation varies with each run, we have taken value which is mode of all itterations, i.e. value which is repeated more times in all the runs. This value is 100, hence we have used PCA components = 100**"
   ]
  },
  {
   "cell_type": "markdown",
   "id": "0bcb876d",
   "metadata": {},
   "source": [
    "### SVM with PCA <a id=19></a>"
   ]
  },
  {
   "cell_type": "code",
   "execution_count": 22,
   "id": "cfa30818",
   "metadata": {},
   "outputs": [],
   "source": [
    "components = 100 \n",
    "pca = PCA(n_components = components)\n",
    "pca.fit(X_train_rescaled)\n",
    "\n",
    "X_train_pca = pca.transform(X_train_rescaled)\n",
    "X_test_pca = pca.transform(X_test_rescaled)\n",
    "\n"
   ]
  },
  {
   "cell_type": "code",
   "execution_count": 23,
   "id": "514a3952",
   "metadata": {},
   "outputs": [
    {
     "name": "stdout",
     "output_type": "stream",
     "text": [
      "SVM with PCA:       \n",
      "Execution Time: 1.3116862773895264       \n",
      "Accuracy Score: 0.8102618920363442\n"
     ]
    }
   ],
   "source": [
    "start = time.time()\n",
    "\n",
    "svc = SVC(kernel='rbf', C=100)\n",
    "svc.fit(X_train_pca,y_train)\n",
    "y_pred = svc.predict(X_test_pca)\n",
    "\n",
    "end = time.time()\n",
    "\n",
    "svm_pca_acc = accuracy_score(y_test, y_pred)\n",
    "svm_pca_acc\n",
    "\n",
    "svm_pca_time = end-start\n",
    "\n",
    "print(f'SVM with PCA: \\\n",
    "      \\nExecution Time: {svm_pca_time} \\\n",
    "      \\nAccuracy Score: {svm_pca_acc}')"
   ]
  },
  {
   "cell_type": "markdown",
   "id": "a2a8441b",
   "metadata": {},
   "source": [
    "### SVM with PCA Resized and Mean Normalized <a id=20></a>"
   ]
  },
  {
   "cell_type": "code",
   "execution_count": 24,
   "id": "819694ac",
   "metadata": {},
   "outputs": [],
   "source": [
    "pca2 = PCA(n_components = 100)\n",
    "pca2.fit(flat_data(X_train_resized_mean))\n",
    "\n",
    "X_train_pca_rm = pca2.transform(flat_data(X_train_resized_mean))\n",
    "X_test_pca_rm = pca2.transform(flat_data(X_test_resized_mean))"
   ]
  },
  {
   "cell_type": "code",
   "execution_count": 25,
   "id": "192b9add",
   "metadata": {},
   "outputs": [
    {
     "name": "stdout",
     "output_type": "stream",
     "text": [
      "SVM with PCA Resized and Mean Normalized:       \n",
      "Execution Time: 1.230196475982666       \n",
      "Accuracy Score: 0.8295029396044896\n"
     ]
    }
   ],
   "source": [
    "start = time.time()\n",
    "\n",
    "svc = SVC(kernel='rbf', C=100)\n",
    "svc.fit(X_train_pca_rm,y_train)\n",
    "y_pred = svc.predict(X_test_pca_rm)\n",
    "\n",
    "end = time.time()\n",
    "\n",
    "svm_pca_rm_acc = accuracy_score(y_test, y_pred)\n",
    "svm_pca_rm_acc\n",
    "\n",
    "svm_pca_rm_time = end-start\n",
    "\n",
    "print(f'SVM with PCA Resized and Mean Normalized: \\\n",
    "      \\nExecution Time: {svm_pca_rm_time} \\\n",
    "      \\nAccuracy Score: {svm_pca_rm_acc}')"
   ]
  },
  {
   "cell_type": "markdown",
   "id": "cdc70f78",
   "metadata": {},
   "source": [
    "# Convolutional Neural Network <a id=21></a>"
   ]
  },
  {
   "cell_type": "markdown",
   "id": "a9d23e66",
   "metadata": {},
   "source": [
    "### CNN with 2 Layers <a id=22></a>"
   ]
  },
  {
   "cell_type": "code",
   "execution_count": 51,
   "id": "6aa0368a",
   "metadata": {},
   "outputs": [
    {
     "name": "stdout",
     "output_type": "stream",
     "text": [
      "Model: \"sequential_3\"\n",
      "_________________________________________________________________\n",
      " Layer (type)                Output Shape              Param #   \n",
      "=================================================================\n",
      " conv2d_7 (Conv2D)           (None, 62, 62, 16)        448       \n",
      "                                                                 \n",
      " batch_normalization_3 (Batc  (None, 62, 62, 16)       64        \n",
      " hNormalization)                                                 \n",
      "                                                                 \n",
      " activation_7 (Activation)   (None, 62, 62, 16)        0         \n",
      "                                                                 \n",
      " max_pooling2d_7 (MaxPooling  (None, 31, 31, 16)       0         \n",
      " 2D)                                                             \n",
      "                                                                 \n",
      " flatten_3 (Flatten)         (None, 15376)             0         \n",
      "                                                                 \n",
      " dense_5 (Dense)             (None, 29)                445933    \n",
      "                                                                 \n",
      "=================================================================\n",
      "Total params: 446,445\n",
      "Trainable params: 446,413\n",
      "Non-trainable params: 32\n",
      "_________________________________________________________________\n"
     ]
    }
   ],
   "source": [
    "cnn_2 = Sequential()\n",
    "\n",
    "cnn_2.add(Conv2D(16, (3, 3), input_shape=(64, 64, 3)))\n",
    "cnn_2.add(BatchNormalization())\n",
    "cnn_2.add(Activation('relu'))\n",
    "cnn_2.add(MaxPooling2D((2, 2)))\n",
    "\n",
    "cnn_2.add(Flatten())\n",
    "cnn_2.add(Dense(29, activation='softmax'))\n",
    "\n",
    "cnn_2.summary()"
   ]
  },
  {
   "cell_type": "code",
   "execution_count": 52,
   "id": "40af17f7",
   "metadata": {},
   "outputs": [],
   "source": [
    "early_stop = EarlyStopping(monitor='val_loss',patience=2)"
   ]
  },
  {
   "cell_type": "code",
   "execution_count": 53,
   "id": "ebe207f7",
   "metadata": {},
   "outputs": [],
   "source": [
    "cnn_2.compile(optimizer='adam',\n",
    "              loss='categorical_crossentropy',\n",
    "              metrics=['accuracy'])"
   ]
  },
  {
   "cell_type": "code",
   "execution_count": 56,
   "id": "94979b12",
   "metadata": {},
   "outputs": [
    {
     "ename": "AttributeError",
     "evalue": "'float' object has no attribute 'time'",
     "output_type": "error",
     "traceback": [
      "\u001b[1;31m---------------------------------------------------------------------------\u001b[0m",
      "\u001b[1;31mAttributeError\u001b[0m                            Traceback (most recent call last)",
      "\u001b[1;32m~\\AppData\\Local\\Temp\\ipykernel_23476\\4241047810.py\u001b[0m in \u001b[0;36m<module>\u001b[1;34m\u001b[0m\n\u001b[1;32m----> 1\u001b[1;33m \u001b[0mstart\u001b[0m \u001b[1;33m=\u001b[0m \u001b[0mtime\u001b[0m\u001b[1;33m.\u001b[0m\u001b[0mtime\u001b[0m\u001b[1;33m(\u001b[0m\u001b[1;33m)\u001b[0m\u001b[1;33m\u001b[0m\u001b[1;33m\u001b[0m\u001b[0m\n\u001b[0m\u001b[0;32m      2\u001b[0m history_cnn_2 = cnn_2.fit(X_train_original, y_cat_train,\n\u001b[0;32m      3\u001b[0m           \u001b[0mepochs\u001b[0m\u001b[1;33m=\u001b[0m\u001b[1;36m30\u001b[0m\u001b[1;33m,\u001b[0m\u001b[1;33m\u001b[0m\u001b[1;33m\u001b[0m\u001b[0m\n\u001b[0;32m      4\u001b[0m           \u001b[0mbatch_size\u001b[0m\u001b[1;33m=\u001b[0m\u001b[1;36m64\u001b[0m\u001b[1;33m,\u001b[0m\u001b[1;33m\u001b[0m\u001b[1;33m\u001b[0m\u001b[0m\n\u001b[0;32m      5\u001b[0m           \u001b[0mverbose\u001b[0m\u001b[1;33m=\u001b[0m\u001b[1;36m2\u001b[0m\u001b[1;33m,\u001b[0m\u001b[1;33m\u001b[0m\u001b[1;33m\u001b[0m\u001b[0m\n",
      "\u001b[1;31mAttributeError\u001b[0m: 'float' object has no attribute 'time'"
     ]
    }
   ],
   "source": [
    "start = time.time()\n",
    "history_cnn_2 = cnn_2.fit(X_train_original, y_cat_train,\n",
    "          epochs=30,\n",
    "          batch_size=64,\n",
    "          verbose=2,\n",
    "          validation_data=(X_test_original, y_cat_test))\n",
    "end = time.time()\n",
    "\n",
    "cnn_2_time = end-start\n",
    "\n",
    "print(f'time: {end-start}')\n"
   ]
  },
  {
   "cell_type": "code",
   "execution_count": 46,
   "id": "9d21a9de",
   "metadata": {},
   "outputs": [
    {
     "data": {
      "image/png": "[encoded data removed]",
      "text/plain": [
       "<Figure size 640x480 with 1 Axes>"
      ]
     },
     "metadata": {},
     "output_type": "display_data"
    }
   ],
   "source": [
    "train_acc = history_cnn_2.history['accuracy']\n",
    "val_acc = history_cnn_2.history['val_accuracy']\n",
    "\n",
    "# Create a plot of the training and validation accuracy over epochs\n",
    "plt.plot(train_acc, label='Training accuracy')\n",
    "plt.plot(val_acc, label='Validation accuracy')\n",
    "plt.xlabel('Epoch')\n",
    "plt.ylabel('Accuracy')\n",
    "plt.legend()\n",
    "plt.title('CNN 2-Layered')\n",
    "plt.show()"
   ]
  },
  {
   "cell_type": "code",
   "execution_count": 47,
   "id": "3b525ec0",
   "metadata": {},
   "outputs": [
    {
     "data": {
      "text/plain": [
       "0.7017637491226196"
      ]
     },
     "execution_count": 47,
     "metadata": {},
     "output_type": "execute_result"
    }
   ],
   "source": [
    "_, test_acc_cnn_2 = cnn_2.evaluate(X_test_original, y_cat_test , verbose=0)\n",
    "\n",
    "test_acc_cnn_2"
   ]
  },
  {
   "cell_type": "markdown",
   "id": "43f16894",
   "metadata": {},
   "source": [
    "### CNN with 5 Layers <a id=23></a>"
   ]
  },
  {
   "cell_type": "code",
   "execution_count": 48,
   "id": "7e5a5627",
   "metadata": {},
   "outputs": [
    {
     "name": "stdout",
     "output_type": "stream",
     "text": [
      "Model: \"sequential_2\"\n",
      "_________________________________________________________________\n",
      " Layer (type)                Output Shape              Param #   \n",
      "=================================================================\n",
      " conv2d_4 (Conv2D)           (None, 60, 60, 32)        2432      \n",
      "                                                                 \n",
      " batch_normalization_2 (Batc  (None, 60, 60, 32)       128       \n",
      " hNormalization)                                                 \n",
      "                                                                 \n",
      " activation_4 (Activation)   (None, 60, 60, 32)        0         \n",
      "                                                                 \n",
      " max_pooling2d_4 (MaxPooling  (None, 30, 30, 32)       0         \n",
      " 2D)                                                             \n",
      "                                                                 \n",
      " conv2d_5 (Conv2D)           (None, 28, 28, 64)        18496     \n",
      "                                                                 \n",
      " activation_5 (Activation)   (None, 28, 28, 64)        0         \n",
      "                                                                 \n",
      " max_pooling2d_5 (MaxPooling  (None, 14, 14, 64)       0         \n",
      " 2D)                                                             \n",
      "                                                                 \n",
      " conv2d_6 (Conv2D)           (None, 12, 12, 64)        36928     \n",
      "                                                                 \n",
      " activation_6 (Activation)   (None, 12, 12, 64)        0         \n",
      "                                                                 \n",
      " max_pooling2d_6 (MaxPooling  (None, 6, 6, 64)         0         \n",
      " 2D)                                                             \n",
      "                                                                 \n",
      " flatten_2 (Flatten)         (None, 2304)              0         \n",
      "                                                                 \n",
      " dense_3 (Dense)             (None, 128)               295040    \n",
      "                                                                 \n",
      " dense_4 (Dense)             (None, 29)                3741      \n",
      "                                                                 \n",
      "=================================================================\n",
      "Total params: 356,765\n",
      "Trainable params: 356,701\n",
      "Non-trainable params: 64\n",
      "_________________________________________________________________\n"
     ]
    }
   ],
   "source": [
    "from tensorflow.keras.models import Sequential\n",
    "from tensorflow.keras.layers import Conv2D, MaxPooling2D, Flatten, Dense, Activation, BatchNormalization\n",
    "\n",
    "cnn_5 = Sequential()\n",
    "\n",
    "cnn_5.add(Conv2D(32, (5, 5), input_shape=(64, 64, 3)))\n",
    "cnn_5.add(BatchNormalization())\n",
    "cnn_5.add(Activation('relu'))\n",
    "cnn_5.add(MaxPooling2D((2, 2)))\n",
    "\n",
    "cnn_5.add(Conv2D(64, (3, 3)))\n",
    "\n",
    "cnn_5.add(Activation('relu'))\n",
    "cnn_5.add(MaxPooling2D((2, 2)))\n",
    "\n",
    "cnn_5.add(Conv2D(64, (3, 3)))\n",
    "\n",
    "cnn_5.add(Activation('relu'))\n",
    "cnn_5.add(MaxPooling2D((2, 2)))\n",
    "\n",
    "cnn_5.add(Flatten())\n",
    "\n",
    "cnn_5.add(Dense(128, activation='relu'))\n",
    "\n",
    "cnn_5.add(Dense(29, activation='softmax'))\n",
    "\n",
    "cnn_5.summary()\n"
   ]
  },
  {
   "cell_type": "code",
   "execution_count": 49,
   "id": "a9cee839",
   "metadata": {},
   "outputs": [],
   "source": [
    "cnn_5.compile(optimizer='adam',\n",
    "              loss='categorical_crossentropy',\n",
    "              metrics=['accuracy'])"
   ]
  },
  {
   "cell_type": "code",
   "execution_count": 60,
   "id": "c61f2645",
   "metadata": {},
   "outputs": [
    {
     "name": "stdout",
     "output_type": "stream",
     "text": [
      "Epoch 1/40\n",
      "69/69 - 8s - loss: 2.9532 - accuracy: 0.1797 - val_loss: 3.2785 - val_accuracy: 0.0652 - 8s/epoch - 110ms/step\n",
      "Epoch 2/40\n",
      "69/69 - 7s - loss: 1.6268 - accuracy: 0.5188 - val_loss: 2.9574 - val_accuracy: 0.1705 - 7s/epoch - 99ms/step\n",
      "Epoch 3/40\n",
      "69/69 - 7s - loss: 0.9151 - accuracy: 0.7152 - val_loss: 2.9820 - val_accuracy: 0.1603 - 7s/epoch - 99ms/step\n",
      "Epoch 4/40\n",
      "69/69 - 7s - loss: 0.5879 - accuracy: 0.8139 - val_loss: 2.3815 - val_accuracy: 0.3191 - 7s/epoch - 97ms/step\n",
      "Epoch 5/40\n",
      "69/69 - 7s - loss: 0.3384 - accuracy: 0.8930 - val_loss: 2.0243 - val_accuracy: 0.4067 - 7s/epoch - 97ms/step\n",
      "Epoch 6/40\n",
      "69/69 - 7s - loss: 0.2572 - accuracy: 0.9219 - val_loss: 1.0647 - val_accuracy: 0.6638 - 7s/epoch - 96ms/step\n",
      "Epoch 7/40\n",
      "69/69 - 7s - loss: 0.1827 - accuracy: 0.9464 - val_loss: 0.9104 - val_accuracy: 0.7402 - 7s/epoch - 102ms/step\n",
      "Epoch 8/40\n",
      "69/69 - 8s - loss: 0.1127 - accuracy: 0.9659 - val_loss: 0.7639 - val_accuracy: 0.7755 - 8s/epoch - 111ms/step\n",
      "Epoch 9/40\n",
      "69/69 - 7s - loss: 0.1086 - accuracy: 0.9668 - val_loss: 1.6045 - val_accuracy: 0.6435 - 7s/epoch - 107ms/step\n",
      "Epoch 10/40\n",
      "69/69 - 7s - loss: 0.0723 - accuracy: 0.9828 - val_loss: 1.0388 - val_accuracy: 0.7595 - 7s/epoch - 106ms/step\n",
      "Epoch 11/40\n",
      "69/69 - 7s - loss: 0.0646 - accuracy: 0.9814 - val_loss: 1.0403 - val_accuracy: 0.7718 - 7s/epoch - 107ms/step\n",
      "Epoch 12/40\n",
      "69/69 - 7s - loss: 0.0703 - accuracy: 0.9801 - val_loss: 0.9094 - val_accuracy: 0.7712 - 7s/epoch - 106ms/step\n",
      "Epoch 13/40\n",
      "69/69 - 7s - loss: 0.0861 - accuracy: 0.9746 - val_loss: 0.7832 - val_accuracy: 0.8081 - 7s/epoch - 106ms/step\n",
      "Epoch 14/40\n",
      "69/69 - 7s - loss: 0.0668 - accuracy: 0.9810 - val_loss: 1.8873 - val_accuracy: 0.6553 - 7s/epoch - 106ms/step\n",
      "Epoch 15/40\n",
      "69/69 - 7s - loss: 0.0325 - accuracy: 0.9904 - val_loss: 0.8612 - val_accuracy: 0.8065 - 7s/epoch - 107ms/step\n",
      "Epoch 16/40\n",
      "69/69 - 7s - loss: 0.0183 - accuracy: 0.9966 - val_loss: 0.7407 - val_accuracy: 0.8413 - 7s/epoch - 106ms/step\n",
      "Epoch 17/40\n",
      "69/69 - 7s - loss: 0.0460 - accuracy: 0.9890 - val_loss: 0.9030 - val_accuracy: 0.8076 - 7s/epoch - 107ms/step\n",
      "Epoch 18/40\n",
      "69/69 - 7s - loss: 0.0459 - accuracy: 0.9892 - val_loss: 2.1145 - val_accuracy: 0.6788 - 7s/epoch - 107ms/step\n",
      "Epoch 19/40\n",
      "69/69 - 7s - loss: 0.1103 - accuracy: 0.9681 - val_loss: 1.0588 - val_accuracy: 0.7611 - 7s/epoch - 107ms/step\n",
      "Epoch 20/40\n",
      "69/69 - 7s - loss: 0.0489 - accuracy: 0.9860 - val_loss: 0.8284 - val_accuracy: 0.8161 - 7s/epoch - 107ms/step\n",
      "Epoch 21/40\n",
      "69/69 - 7s - loss: 0.0285 - accuracy: 0.9927 - val_loss: 0.8067 - val_accuracy: 0.8434 - 7s/epoch - 107ms/step\n",
      "Epoch 22/40\n",
      "69/69 - 7s - loss: 0.0573 - accuracy: 0.9844 - val_loss: 0.7885 - val_accuracy: 0.8429 - 7s/epoch - 106ms/step\n",
      "Epoch 23/40\n",
      "69/69 - 7s - loss: 0.0397 - accuracy: 0.9885 - val_loss: 1.0548 - val_accuracy: 0.8017 - 7s/epoch - 106ms/step\n",
      "Epoch 24/40\n",
      "69/69 - 7s - loss: 0.0340 - accuracy: 0.9895 - val_loss: 0.8942 - val_accuracy: 0.8188 - 7s/epoch - 108ms/step\n",
      "Epoch 25/40\n",
      "69/69 - 7s - loss: 0.0270 - accuracy: 0.9934 - val_loss: 0.9431 - val_accuracy: 0.8263 - 7s/epoch - 107ms/step\n",
      "Epoch 26/40\n",
      "69/69 - 8s - loss: 0.0389 - accuracy: 0.9901 - val_loss: 1.4896 - val_accuracy: 0.7429 - 8s/epoch - 109ms/step\n",
      "Epoch 27/40\n",
      "69/69 - 7s - loss: 0.0309 - accuracy: 0.9920 - val_loss: 1.3866 - val_accuracy: 0.7477 - 7s/epoch - 106ms/step\n",
      "Epoch 28/40\n",
      "69/69 - 7s - loss: 0.0077 - accuracy: 0.9986 - val_loss: 0.7410 - val_accuracy: 0.8557 - 7s/epoch - 107ms/step\n",
      "Epoch 29/40\n",
      "69/69 - 8s - loss: 0.0041 - accuracy: 0.9993 - val_loss: 0.6887 - val_accuracy: 0.8755 - 8s/epoch - 109ms/step\n",
      "Epoch 30/40\n",
      "69/69 - 8s - loss: 0.0015 - accuracy: 0.9998 - val_loss: 0.7201 - val_accuracy: 0.8648 - 8s/epoch - 110ms/step\n",
      "Epoch 31/40\n",
      "69/69 - 8s - loss: 4.6262e-04 - accuracy: 1.0000 - val_loss: 0.7111 - val_accuracy: 0.8717 - 8s/epoch - 112ms/step\n",
      "Epoch 32/40\n",
      "69/69 - 7s - loss: 2.2428e-04 - accuracy: 1.0000 - val_loss: 0.6963 - val_accuracy: 0.8792 - 7s/epoch - 108ms/step\n",
      "Epoch 33/40\n",
      "69/69 - 7s - loss: 2.0852e-04 - accuracy: 1.0000 - val_loss: 0.6998 - val_accuracy: 0.8781 - 7s/epoch - 106ms/step\n",
      "Epoch 34/40\n",
      "69/69 - 8s - loss: 1.4741e-04 - accuracy: 1.0000 - val_loss: 0.7017 - val_accuracy: 0.8792 - 8s/epoch - 118ms/step\n",
      "Epoch 35/40\n",
      "69/69 - 8s - loss: 1.4152e-04 - accuracy: 1.0000 - val_loss: 0.7042 - val_accuracy: 0.8781 - 8s/epoch - 116ms/step\n",
      "Epoch 36/40\n",
      "69/69 - 8s - loss: 1.2261e-04 - accuracy: 1.0000 - val_loss: 0.7100 - val_accuracy: 0.8787 - 8s/epoch - 116ms/step\n",
      "Epoch 37/40\n",
      "69/69 - 8s - loss: 1.1268e-04 - accuracy: 1.0000 - val_loss: 0.7096 - val_accuracy: 0.8781 - 8s/epoch - 117ms/step\n",
      "Epoch 38/40\n",
      "69/69 - 8s - loss: 1.0328e-04 - accuracy: 1.0000 - val_loss: 0.7097 - val_accuracy: 0.8803 - 8s/epoch - 117ms/step\n",
      "Epoch 39/40\n",
      "69/69 - 8s - loss: 9.3206e-05 - accuracy: 1.0000 - val_loss: 0.7149 - val_accuracy: 0.8797 - 8s/epoch - 117ms/step\n",
      "Epoch 40/40\n",
      "69/69 - 8s - loss: 1.0884e-04 - accuracy: 1.0000 - val_loss: 0.7212 - val_accuracy: 0.8819 - 8s/epoch - 118ms/step\n",
      "time: 297.5997552871704\n"
     ]
    }
   ],
   "source": [
    "start = time.time()\n",
    "history_cnn_5 = cnn_5.fit(X_train_original, y_cat_train,\n",
    "          epochs=40,\n",
    "          batch_size=64,\n",
    "          verbose=2,\n",
    "          validation_data=(X_test_original, y_cat_test))\n",
    "end = time.time()\n",
    "\n",
    "cnn_5_time = end-start\n",
    "\n",
    "print(f'time: {end-start}')"
   ]
  },
  {
   "cell_type": "code",
   "execution_count": 61,
   "id": "b4bf1024",
   "metadata": {
    "scrolled": true
   },
   "outputs": [
    {
     "data": {
      "image/png": "[encoded data removed]",
      "text/plain": [
       "<Figure size 640x480 with 1 Axes>"
      ]
     },
     "metadata": {},
     "output_type": "display_data"
    }
   ],
   "source": [
    "train_acc = history_cnn_5.history['accuracy']\n",
    "val_acc = history_cnn_5.history['val_accuracy']\n",
    "\n",
    "# Create a plot of the training and validation accuracy over epochs\n",
    "plt.plot(train_acc, label='Training accuracy')\n",
    "plt.plot(val_acc, label='Validation accuracy')\n",
    "plt.xlabel('Epoch')\n",
    "plt.ylabel('Accuracy')\n",
    "plt.legend()\n",
    "plt.title('CNN 5 Layered')\n",
    "plt.show()"
   ]
  },
  {
   "cell_type": "code",
   "execution_count": 62,
   "id": "22c47b98",
   "metadata": {},
   "outputs": [
    {
     "data": {
      "text/plain": [
       "0.8818813562393188"
      ]
     },
     "execution_count": 62,
     "metadata": {},
     "output_type": "execute_result"
    }
   ],
   "source": [
    "_, test_acc_cnn_5 = cnn_5.evaluate(X_test_original, y_cat_test , verbose=0)\n",
    "\n",
    "test_acc_cnn_5"
   ]
  },
  {
   "cell_type": "markdown",
   "id": "22b45164",
   "metadata": {},
   "source": [
    "# Model Comparison <a id=24></a>"
   ]
  },
  {
   "cell_type": "code",
   "execution_count": 63,
   "id": "473ec3cb",
   "metadata": {},
   "outputs": [],
   "source": [
    "method = ['SVM; Original (64X64)','SVM; Resized (28X28)','SVM; Mean (64X64)',\n",
    "          'SVM; Resized and mean Normalization (28X28)', 'SVM; PCA (64X64)',\n",
    "         'SVM; Resized, mean normalization, PCA (28X28)', 'CNN; 2 Layered', 'CNN; 5 Layered']\n",
    "\n",
    "data = [{'Accuracy':svm_orig_acc , 'Excecution Time': svm_orig_time},\n",
    "        {'Accuracy':svm_resized_acc , 'Excecution Time': svm_resized_time},\n",
    "        {'Accuracy':svm_mean_acc , 'Excecution Time': svm_mean_time},\n",
    "        {'Accuracy': svm_resized_mean_acc, 'Excecution Time': svm_resized_mean_time},\n",
    "        {'Accuracy': svm_pca_acc, 'Excecution Time': svm_pca_time},\n",
    "        {'Accuracy': svm_pca_rm_acc, 'Excecution Time': svm_pca_rm_time},\n",
    "        {'Accuracy': test_acc_cnn_2, 'Excecution Time': cnn_2_time},\n",
    "        {'Accuracy': test_acc_cnn_5, 'Excecution Time': cnn_5_time}]\n",
    "df = pd.DataFrame(data,index = method)"
   ]
  },
  {
   "cell_type": "code",
   "execution_count": 67,
   "id": "3485779a",
   "metadata": {},
   "outputs": [
    {
     "name": "stderr",
     "output_type": "stream",
     "text": [
      "C:\\Users\\pprad\\AppData\\Local\\Temp\\ipykernel_23476\\2681149432.py:4: UserWarning: FixedFormatter should only be used together with FixedLocator\n",
      "  ax1.set_xticklabels([model.replace(' ', '\\n') for model in df.index]);\n"
     ]
    },
    {
     "data": {
      "image/png": "[encoded data removed]",
      "text/plain": [
       "<Figure size 1000x600 with 1 Axes>"
      ]
     },
     "metadata": {},
     "output_type": "display_data"
    }
   ],
   "source": [
    "fig1, ax1 = plt.subplots(figsize=(10, 6 ))\n",
    "plt.plot(df.index,df['Excecution Time'], marker = 'o');\n",
    "\n",
    "ax1.set_xticklabels([model.replace(' ', '\\n') for model in df.index]);\n",
    "\n",
    "\n",
    "plt.ylabel('Execution Time in Seconds')\n",
    "plt.xlabel('Model')\n",
    "plt.title('Model vs Execution Time');\n",
    "\n",
    "for i, time1 in enumerate(df['Excecution Time']):\n",
    "    ax1.annotate(f'{time1:.2f}s', xy=(df.index[i], time1), xytext=(5, -10), \n",
    "                 textcoords='offset points', ha='left', va='center')"
   ]
  },
  {
   "cell_type": "code",
   "execution_count": 68,
   "id": "91352d8b",
   "metadata": {},
   "outputs": [
    {
     "name": "stderr",
     "output_type": "stream",
     "text": [
      "C:\\Users\\pprad\\AppData\\Local\\Temp\\ipykernel_23476\\643161950.py:7: UserWarning: FixedFormatter should only be used together with FixedLocator\n",
      "  ax.set_xticklabels([model.replace(' ', '\\n') for model in df.index]);\n"
     ]
    },
    {
     "data": {
      "image/png": "[encoded data removed]",
      "text/plain": [
       "<Figure size 1000x600 with 1 Axes>"
      ]
     },
     "metadata": {},
     "output_type": "display_data"
    }
   ],
   "source": [
    "fig, ax = plt.subplots(figsize=(10, 6 ))\n",
    "plt.bar(df.index,df['Accuracy']);\n",
    "# add percentages to the top of the bars\n",
    "for i, v in enumerate(df['Accuracy']):\n",
    "    ax.text(i, v, f'{v:.2%}', ha='center')\n",
    "\n",
    "ax.set_xticklabels([model.replace(' ', '\\n') for model in df.index]);\n",
    "\n",
    "plt.ylabel('Accuracy');\n",
    "plt.xlabel('Model');\n",
    "y_ticks = np.arange(0, 1.1, 0.1)\n",
    "ax.set_ylim([0, 1])\n",
    "ax.set_yticks(y_ticks)\n",
    "\n",
    "plt.title('Model vs Accuracy');\n"
   ]
  },
  {
   "cell_type": "markdown",
   "id": "ff94f019",
   "metadata": {},
   "source": [
    "**All the Outputs are noted with runing the notebook multiple times and on different systems. \n",
    "The Average accuracy of the Model CNN - 5 layered model is 91%, which is the highest test accuracy for this project.\n",
    "Detailed model results are mentioned in the report.**"
   ]
  },
  {
   "cell_type": "code",
   "execution_count": null,
   "id": "a4a65205",
   "metadata": {},
   "outputs": [],
   "source": [
    " "
   ]
  }
 ],
 "metadata": {
  "kernelspec": {
   "display_name": "Python 3 (ipykernel)",
   "language": "python",
   "name": "python3"
  },
  "language_info": {
   "codemirror_mode": {
    "name": "ipython",
    "version": 3
   },
   "file_extension": ".py",
   "mimetype": "text/x-python",
   "name": "python",
   "nbconvert_exporter": "python",
   "pygments_lexer": "ipython3",
   "version": "3.10.9"
  }
 },
 "nbformat": 4,
 "nbformat_minor": 5
}
